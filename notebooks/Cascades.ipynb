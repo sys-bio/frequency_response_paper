{
 "cells": [
  {
   "cell_type": "markdown",
   "id": "d88f02a0-4976-42e9-ab47-888f480a5da8",
   "metadata": {},
   "source": [
    "# CASCADES"
   ]
  },
  {
   "cell_type": "markdown",
   "id": "624ed4fc-6828-4575-8720-97c4063ea452",
   "metadata": {},
   "source": [
    "# Preliminaries"
   ]
  },
  {
   "cell_type": "code",
   "execution_count": 1,
   "id": "fa9c0cad-eb68-4a8e-90c0-10bb6dbe5b30",
   "metadata": {},
   "outputs": [],
   "source": [
    "import sympy\n",
    "import tellurium as te\n",
    "import numpy as np\n",
    "import pandas as pd"
   ]
  },
  {
   "cell_type": "markdown",
   "id": "7fd03786-5534-411f-9b73-4370d08ece1b",
   "metadata": {},
   "source": [
    "# Single element cascade"
   ]
  },
  {
   "cell_type": "markdown",
   "id": "75eba83d-2064-4ff3-81db-85c9a6ee5612",
   "metadata": {},
   "source": [
    "There is a single species, two inputs (left and right) and two outputs.\n",
    "\\begin{eqnarray}\n",
    "\\dot{S} (t) & = & v^L(t) + v^R(t) - k^L S(t) - k^R S(t) \\\\\n",
    "S(s) & = & \\frac{v^L(s) + v^R (s)}{ s + k^L  + k^R } \\\\\n",
    "\\end{eqnarray}"
   ]
  },
  {
   "cell_type": "markdown",
   "id": "2263a437-c579-47db-9cc7-724bb29aa8e4",
   "metadata": {},
   "source": [
    "From the final value theorm, we see that $S \\rightarrow 0$ if $v^L = 0 = v^R$, which makes intuitive sense."
   ]
  },
  {
   "cell_type": "markdown",
   "id": "3a497131-d38d-4910-a420-c38d2f37c35b",
   "metadata": {},
   "source": [
    "Note that\n",
    "\\begin{eqnarray}\n",
    "H^L(s) & = & \\frac{S(s)}{v^L(s)} \\\\\n",
    "&= & \\frac{1}{ s + k^L  + k^R } \\\\\n",
    "& = & \\frac{S(s)}{v^R(s)} \\\\\n",
    "& = & H^R(s) \\\\\n",
    "& = & H(s) \\\\\n",
    "\\end{eqnarray}\n",
    "That is\n",
    "$S(s) = H(s) (v^L(s) +  v^R(s))$."
   ]
  },
  {
   "cell_type": "markdown",
   "id": "9932bf7d-84ae-431f-8225-74e5878e84a0",
   "metadata": {},
   "source": [
    "Let $S_n$ be the $n$th species in the cascade with parameters $v^L_{n}, v^R_{n}, k^L_n, k^R_n$.\n",
    "Consider a two species cascade so that\n",
    "$n \\in {1, 2}$, and\n",
    "$v^L_1 = 0$ and $v^R_2 = 0$. So we have\n",
    "\\begin{eqnarray}\n",
    "S_1(s) & = & H_1(s) v_1^R(s) \\\\\n",
    "S_2(s) & = & H_2(s) v_2^L(s) \\\\\n",
    "v^R_1 (s) & = & S_2 (s) k^L_2 \\\\\n",
    "v^R_2 (s) & = & S_1 (s) k^R_2 \\\\\n",
    "\\end{eqnarray}\n",
    "and so\n",
    "\\begin{eqnarray}\n",
    "S_1(s) & = & H_1(s) S_2 (s) k^L_2  \\\\\n",
    "S_2(s) & = & H_2(s) S_1 (s) k^R_1  \\\\\n",
    "\\end{eqnarray}\n",
    "Substituting,\n",
    "\\begin{eqnarray}\n",
    "H_1(s) & = & \\frac{1}{ H_2(s)  k^R_1  k^L_2 } \\\\\n",
    "\\end{eqnarray}"
   ]
  },
  {
   "cell_type": "markdown",
   "id": "a9f5633b-8fde-4662-89d5-e0d4661754fc",
   "metadata": {
    "tags": []
   },
   "source": [
    "\\begin{eqnarray}\n",
    " H_1(s)& = & \\frac{s + k^L_2 }{ k^R_1  k^L_2 } \\\\\n",
    "\\end{eqnarray}"
   ]
  },
  {
   "cell_type": "code",
   "execution_count": 2,
   "id": "3e4d2436-5031-4142-8989-c19a0ef42967",
   "metadata": {},
   "outputs": [
    {
     "data": {
      "image/png": "[encoded data removed]",
      "text/plain": [
       "<Figure size 600x400 with 1 Axes>"
      ]
     },
     "metadata": {},
     "output_type": "display_data"
    }
   ],
   "source": [
    "model = \"\"\"\n",
    "S1 -> S2; kR1 * S1\n",
    "S2 -> S1; kL2 * S2\n",
    "\n",
    "S1 = 5\n",
    "S2 = 5\n",
    "kR1 = 1\n",
    "kL2 = 2\n",
    "\n",
    "at (time > 2): kL2 = 0.5\n",
    "\"\"\"\n",
    "rr = te.loada(model)\n",
    "rr.simulate()\n",
    "rr.plot(ylim=[0, 10])"
   ]
  },
  {
   "cell_type": "markdown",
   "id": "97ecac32-6818-4423-9e37-7a835bff5e7a",
   "metadata": {},
   "source": [
    "# Steady state for n stage cascade"
   ]
  },
  {
   "cell_type": "markdown",
   "id": "c3edd53c-8787-4410-90ae-8aaee6908ffe",
   "metadata": {},
   "source": [
    "At steady state, the rates across each stage must be the same. That is,\n",
    "\\begin{eqnarray}\n",
    "k^R_{n-1}S_{n-1} &= &k^L{n}S_{n} \\\\\n",
    "\\end{eqnarray}\n",
    "Also, $\\sum_n S_n = T$."
   ]
  },
  {
   "cell_type": "markdown",
   "id": "0925ec8b-77f1-45ee-94e6-9d36ef8711dd",
   "metadata": {},
   "source": [
    "So, for an $N$ stage cascade:\n",
    "\\begin{eqnarray}\n",
    "k^R_{n-1}S_{n-1} &= &k^L{n}S_{n} \\\\\n",
    "S_{n} &= & \\frac{k^L_{n+1}}{k^R_{n}} S_{n+1} \\\\\n",
    "S_{n} &= & \\prod_{j=n}^{N-1}\\frac{k^L_{j+1}}{k^R_{j}} S_{N} \\\\\n",
    "\\end{eqnarray}\n",
    "where $k^L_j =0$ for $j \\leq 1$ and $k^R_j = 0$ for $j \\geq N$."
   ]
  },
  {
   "cell_type": "markdown",
   "id": "8884ab50-f01c-4643-878c-7c0640b7edd0",
   "metadata": {},
   "source": [
    "And,\n",
    "\\begin{eqnarray}\n",
    "T & = & \\sum_n S_n \\\\\n",
    "& = & S_N + \\sum_{n=1}^{N-1} \\prod_{j=n}^{N-1}\\frac{k^L_{j+1}}{k^R_{j}} S_{N} \\\\\n",
    "S_N & = &  \\frac{T}{1 + \\sum_{n=1}^{N-1} \\prod_{j=n}^{N-1}\\frac{k^L_{j+1}}{k^R_{j}} } \\\\\n",
    "S_n & = & \\frac{T \\prod_{j=n}^{N-1}\\frac{k^L_{j+1}}{k^R_{j}} }{1 + \\sum_{n=1}^{N-1} \\prod_{j=n}^{N-1}\\frac{k^L_{j+1}}{k^R_{j}} }, ~ n < N \\\\\n",
    "\\end{eqnarray}"
   ]
  },
  {
   "cell_type": "markdown",
   "id": "95834770-1aa7-4843-80b9-893f19a2640b",
   "metadata": {},
   "source": [
    "Let $r_n = \\frac{k^L_n+1}{k^R_n}$. Then\n",
    "$S_n = \\frac{T \\prod_{j=n}^{N-1} r_n  }{1 + \\sum_{m=1}^{N-1} \\prod_{j=m}^{N-1} r_j  }$"
   ]
  },
  {
   "cell_type": "markdown",
   "id": "e2d2b1ba-86e3-4f6a-8e9a-581872b2fed6",
   "metadata": {},
   "source": [
    "## Verification of steady state result"
   ]
  },
  {
   "cell_type": "code",
   "execution_count": 18,
   "id": "c58e419a-4b68-4a08-a60b-87c80e74cd67",
   "metadata": {},
   "outputs": [
    {
     "data": {
      "text/plain": [
       "array([ 0.,  0., 10.])"
      ]
     },
     "execution_count": 18,
     "metadata": {},
     "output_type": "execute_result"
    }
   ],
   "source": [
    "#FXIME: Strange bug\n",
    "def calculateSteadyState(rvec, total):\n",
    "    \"\"\"\n",
    "    Calculates the steady state value of each species.\n",
    "\n",
    "    Args:\n",
    "        rvec: array-float (dimension N-1. rvec[n] = r_n)\n",
    "        total: float (T)\n",
    "    Returns\n",
    "        svec: array-float (dimension N)\n",
    "    \"\"\"\n",
    "    num_species = len(rvec) + 1\n",
    "    prods = np.repeat(0, num_species - 1)\n",
    "    indices = list(range(num_species-1))\n",
    "    # Calculate the products for each position in the cascade\n",
    "    for idx in indices:\n",
    "        rev_idx = len(indices) - idx - 1\n",
    "        prods[rev_idx] = rvec[rev_idx]\n",
    "        if rev_idx < max(indices):\n",
    "            prods[rev_idx] *= prods[rev_idx+1]\n",
    "    #\n",
    "    denominator = 1 + np.sum(prods)\n",
    "    result_arr = total*np.append(prods, [1])/denominator\n",
    "    return result_arr\n",
    "\n",
    "# TESTS\n",
    "calculateSteadyState(np.array([17.0, 0.45]), 10)"
   ]
  },
  {
   "cell_type": "code",
   "execution_count": 4,
   "id": "6b5d36f0-79b0-48c1-bf5e-3ad289e3cd79",
   "metadata": {},
   "outputs": [
    {
     "data": {
      "image/png": "[encoded data removed]",
      "text/plain": [
       "<Figure size 600x400 with 1 Axes>"
      ]
     },
     "metadata": {},
     "output_type": "display_data"
    },
    {
     "name": "stdout",
     "output_type": "stream",
     "text": [
      "[S1]: 8.407\n",
      "[S2]: 0.495\n",
      "[S3]: 1.099\n"
     ]
    }
   ],
   "source": [
    "MODEL = \"\"\"\n",
    "S1 -> S2; k12*S1\n",
    "S2 -> S1; k21*S2\n",
    "S2 -> S3; k23*S2\n",
    "S3 -> S2; k32*S3\n",
    "\n",
    "k12 = 1;\n",
    "k21 = 17;\n",
    "k23 = 1;\n",
    "k32 = 0.45\n",
    "TOTAL = 10\n",
    "S1 = TOTAL\n",
    "S2 = 0\n",
    "S3 = 0\n",
    "\"\"\"\n",
    "rr = te.loada(MODEL)\n",
    "rr.simulate(0, 20, 200)\n",
    "rr.plot()\n",
    "for idx in range(3):\n",
    "    name = \"[S%d]\" % (idx + 1)\n",
    "    print(\"%s: %2.3f\" % (name, rr[name]))"
   ]
  },
  {
   "cell_type": "markdown",
   "id": "027d791c-9022-467e-bf4c-3dcfa06dbf73",
   "metadata": {},
   "source": [
    "# Effect of a change in kinetic rates"
   ]
  },
  {
   "cell_type": "markdown",
   "id": "1d7f11c2-1878-4024-89f3-38d880ac994f",
   "metadata": {},
   "source": [
    "## Products of ratios: $P(i, j)$"
   ]
  },
  {
   "cell_type": "markdown",
   "id": "cbda4ec9-114e-4c5b-80b4-dcd29fb18838",
   "metadata": {},
   "source": [
    "\\begin{eqnarray}\n",
    "P (i, j) & = & \\prod_{l=i}^j r_l \\text{ for } i \\leq j; 0 \\text{ otherwise} \\\\\n",
    "P (i) & = & P (i,N-1)\\\\\n",
    "D & = & 1 + \\sum_{m=1}^{N-1} P(m) \\\\\n",
    "S_n & = & \\frac{T P(n)}{D},~ n<N \\\\\n",
    "S_N & = & \\frac{T}{D } \\\\\n",
    "\\end{eqnarray}"
   ]
  },
  {
   "cell_type": "markdown",
   "id": "7d811b04-2959-4f4e-91b1-ad7da4c83206",
   "metadata": {},
   "source": [
    "## Derivatives"
   ]
  },
  {
   "cell_type": "markdown",
   "id": "0a497ebf-e150-4123-b15f-c7c4fe7bfe9a",
   "metadata": {},
   "source": [
    "\\begin{eqnarray}\n",
    "\\frac{\\partial P(i,j)}{\\partial r_m} & = &  \\frac{P(i,j)}{r_m}, i \\leq m \\\\\n",
    "& = & 0, \\text{ otherwise}\n",
    "\\end{eqnarray}"
   ]
  },
  {
   "cell_type": "markdown",
   "id": "2b221443-2c4a-4797-b7d5-6183fa68f875",
   "metadata": {},
   "source": [
    "\\begin{eqnarray}\n",
    "\\frac{ \\partial D}{\\partial r_m} & = & \n",
    "\\sum_{l=1}^{k} \\frac{P(l, m)}{r_m} \\\\\n",
    "\\end{eqnarray}"
   ]
  },
  {
   "cell_type": "markdown",
   "id": "156a4139-3482-41a5-bd34-ca95538152ff",
   "metadata": {},
   "source": [
    "\\begin{eqnarray}\n",
    "\\frac{\\partial S_n}{\\partial r_m} & = & \n",
    "T\\frac{ D \\frac{   \\partial P(n)}{\\partial r_m}\n",
    "- \n",
    "P(n) \\frac{\\partial D}{\\partial r_m} } \n",
    "{D^2 } \\\\\n",
    "& = & \n",
    "T\\frac{P(n)}{r_m}\n",
    "\\left(\n",
    "\\frac{1}{D}\n",
    "- \n",
    "\\frac{\\sum_{l=1}^{m}  P(l, m) } \n",
    "{D^2 } \\right) \\\\\n",
    "\\frac{\\partial S_N}{\\partial r_m} & = & \n",
    "-\\frac{T P(n)}{r_m}\n",
    "\\frac{\\sum_{l=1}^{m}  P(l, m) } \n",
    "{D^2 } \\\\\n",
    "\\end{eqnarray}"
   ]
  },
  {
   "cell_type": "markdown",
   "id": "3d915364-0b04-4317-983d-bcfcc1c91051",
   "metadata": {},
   "source": [
    "## Control Coefficients"
   ]
  },
  {
   "cell_type": "markdown",
   "id": "30d7a418-ba90-4832-99ac-b51e82058921",
   "metadata": {},
   "source": [
    "The scaled elasticity is for $S_n$, $n < N$ w.r.t. $r_m$ is\n",
    "\n",
    "\\begin{eqnarray}\n",
    "\\mathcal{C}_{r_m}^{S_N} & = &\n",
    "-\n",
    "\\frac{\\sum_{l=1}^{m}  P(l, m) } \n",
    "{D } \\\\\n",
    "\\mathcal{E}^{r_m}_{k^L_m} & = &\n",
    "\\frac{1}{k^R_m} \\frac{1}{r_m}{k^L_m} \\\\\n",
    "& = & 1 \\\\\n",
    "\\mathcal{C}^{S_N}_{k^L_m} & = &\n",
    "\\mathcal{C}^{S_N}_{r_m} \\\\\n",
    "\\mathcal{E}^{r_m}_{k^R_m} & = &\n",
    "\\frac{-k^L_m}{(k^R_m)^2} \\frac{1}{r_m}{ k^R_m} \\\\\n",
    "& = & -1 \\\\\n",
    "\\mathcal{C}^{S_N}_{k^R_m} & = &\n",
    "-\\mathcal{C}^{S_N}_{r_m} \\\\\n",
    "\\end{eqnarray}"
   ]
  },
  {
   "cell_type": "markdown",
   "id": "d4839495-08ab-4055-8fe4-fb920a520b0e",
   "metadata": {},
   "source": [
    "Note can get very large control coefficient in 2 cycle cascade if $r_1$ is large and $r_2$ is smaller than 1."
   ]
  },
  {
   "cell_type": "markdown",
   "id": "a4db81c5-f462-4e2e-94e8-1dc1b870e862",
   "metadata": {},
   "source": [
    "Consider\n",
    "1. Descending and increasing sequences of $r_i$\n",
    "1. 3 species cascade\n",
    "1. Normalized sensitivity\n",
    "1. Conditions when get hypersensitivity"
   ]
  },
  {
   "cell_type": "markdown",
   "id": "3bbd63c8-4c6a-478a-8c4f-06b765ec419e",
   "metadata": {},
   "source": [
    "The scaled control coefficient is for $S_n$, $n < N$ w.r.t. $r_i$ is\n",
    "\\begin{eqnarray}\n",
    "\\mathcal{C}_{r_i}^{S_n} & = &\n",
    "\\frac{ \\frac{\\partial S_n}{S_n} } {\\frac{\\partial r_i}{r_i}} \\\\\n",
    "& = &  \\frac{\\partial S_n}{\\partial r_i} \\frac{r_i}{S_n} \\\\\n",
    "& = & \\frac{r_i}{S_n}\n",
    "\\frac{1}{r_i}\n",
    "\\frac{ D  P(n, i) P(i+1)\n",
    "- \n",
    "P(n) \\sum_{m=1}^{N-1}  P(m, i) P(i+1) } \n",
    "{D^2 } \\\\\n",
    "& = &\n",
    " P(i+1) \\frac{ D  P(n, i)\n",
    "- \n",
    "P(n) \\sum_{m=1}^{N-1}  P(m, i) } \n",
    "{D P(n)} \\\\\n",
    "& = &\n",
    " P(i+1) \\left( \\frac{  P(n, i)}{P(n)}\n",
    "-\n",
    "\\frac{ D -1 } \n",
    "{D} \\right) \\\\\n",
    "\\end{eqnarray}"
   ]
  },
  {
   "cell_type": "markdown",
   "id": "5b52db9e-c0b8-4162-a32e-1a8336d74f39",
   "metadata": {},
   "source": [
    "The scaled control coefficient is for $S_N$ w.r.t. $r_i$ is\n",
    "\\begin{eqnarray}\n",
    "\\mathcal{C}_{r_i}^{S_n}\n",
    "& = &  \\frac{\\partial S_N}{\\partial r_i} \\frac{r_i}{S_N} \\\\\n",
    "& = & -\\frac{r_i}{S_N}\n",
    "\\frac{1}{r_i}\n",
    "\\frac{ \n",
    " \\sum_{m=1}^{N-1}  P(m, i) P(i+1) } \n",
    "{D^2 } \\\\\n",
    "& = &\n",
    " - P(i+1) \\frac{ \n",
    "\\sum_{m=1}^{N-1}  P(m, i) } \n",
    "{D } \\\\\n",
    "& = &\n",
    "- P(i+1) \n",
    "\\frac{ D -1 } \n",
    "{D} \\\\\n",
    "\\end{eqnarray}"
   ]
  },
  {
   "cell_type": "markdown",
   "id": "3d29102c-ca1b-4250-946c-122c7e93d987",
   "metadata": {},
   "source": [
    "Observations\n",
    "1. Get hypersensitivty to stage $i$ if $r_n$ is large for $n \\neq i$ and $r_i$ is small.\n",
    "1. Suppose that $P(n,i) \\approx P(n)$ if $i \\leq n$, and $P(i+1) \\approx R$."
   ]
  },
  {
   "cell_type": "markdown",
   "id": "602f6fe7-428b-4885-9834-eb0b59cf40a5",
   "metadata": {},
   "source": [
    "## Notes"
   ]
  },
  {
   "cell_type": "markdown",
   "id": "38faabfc-b481-4088-9f82-c47a589db6b6",
   "metadata": {},
   "source": [
    "1. Need to find control coefficients in terms of the kinetic constants, not the ratios since the engineering cost is in terms of changing the $k$. This likely just involve the elasticity of $r_k$ w.r.t. "
   ]
  },
  {
   "cell_type": "code",
   "execution_count": null,
   "id": "1775e53d-1687-4b34-bbaf-873fb0367897",
   "metadata": {},
   "outputs": [],
   "source": []
  }
 ],
 "metadata": {
  "kernelspec": {
   "display_name": "Python 3 (ipykernel)",
   "language": "python",
   "name": "python3"
  },
  "language_info": {
   "codemirror_mode": {
    "name": "ipython",
    "version": 3
   },
   "file_extension": ".py",
   "mimetype": "text/x-python",
   "name": "python",
   "nbconvert_exporter": "python",
   "pygments_lexer": "ipython3",
   "version": "3.9.6"
  }
 },
 "nbformat": 4,
 "nbformat_minor": 5
}
